{
 "cells": [
  {
   "cell_type": "code",
   "execution_count": 3,
   "id": "b2c966a5-594d-4c02-baa0-db82fa18dc09",
   "metadata": {},
   "outputs": [
    {
     "name": "stdout",
     "output_type": "stream",
     "text": [
      "15\n"
     ]
    }
   ],
   "source": [
    "#closures\n",
    "#nested(inner) function retain access to the outer function after the outer function has finished executing.\n",
    "#ex:\n",
    "def outer_function(x):\n",
    "  def inner_function(y):\n",
    "    return x+y\n",
    "  return inner_function\n",
    "closure= outer_function(10)\n",
    "print(closure(5))"
   ]
  },
  {
   "cell_type": "code",
   "execution_count": 2,
   "id": "2edc1a92-420e-4b46-be38-d890a4c5ec41",
   "metadata": {},
   "outputs": [
    {
     "name": "stdout",
     "output_type": "stream",
     "text": [
      "25\n"
     ]
    }
   ],
   "source": [
    "print(closure(15))"
   ]
  },
  {
   "cell_type": "code",
   "execution_count": 3,
   "id": "86ddb860-177c-41ab-b22f-2febec6dc7a4",
   "metadata": {},
   "outputs": [
    {
     "name": "stdout",
     "output_type": "stream",
     "text": [
      "125\n"
     ]
    }
   ],
   "source": [
    "def value1(x):\n",
    "  def value2(y):\n",
    "    return x*y\n",
    "  return value2\n",
    "closure= value1(25)\n",
    "print(closure(5))"
   ]
  },
  {
   "cell_type": "code",
   "execution_count": 4,
   "id": "924d219b-b8b0-494c-b7fb-0d5dc4a78a3f",
   "metadata": {},
   "outputs": [
    {
     "name": "stdout",
     "output_type": "stream",
     "text": [
      "100.0\n"
     ]
    }
   ],
   "source": [
    "def a(x):\n",
    "  def b(y):\n",
    "    return x/y\n",
    "  return b\n",
    "closure= a(900)\n",
    "print(closure(9))"
   ]
  },
  {
   "cell_type": "code",
   "execution_count": 6,
   "id": "6958432d-829f-48af-9bc1-20955ce27e23",
   "metadata": {},
   "outputs": [
    {
     "data": {
      "text/plain": [
       "'hello suraj'"
      ]
     },
     "execution_count": 6,
     "metadata": {},
     "output_type": "execute_result"
    }
   ],
   "source": [
    "#Decorators\n",
    "#function.....further add on......decorator\n",
    "#modify....decorator(additions)\n",
    "def say_hello(name):\n",
    "  return f'hello {name}'\n",
    "say_hello('suraj')"
   ]
  },
  {
   "cell_type": "code",
   "execution_count": 8,
   "id": "ab9dd3b3-aa22-49b2-b808-d0d9e3bef5c8",
   "metadata": {},
   "outputs": [],
   "source": [
    "def decorator_function(function):\n",
    "  def wrapper(message):\n",
    "    print('before function')\n",
    "    result=function(message)\n",
    "    print(result)\n",
    "    print('after function')\n",
    "  return wrapper\n",
    "\n",
    "@decorator_function\n",
    "def say_hello(name):\n",
    "  return f'hello{name}'"
   ]
  },
  {
   "cell_type": "code",
   "execution_count": 10,
   "id": "af2dd16b-d7ad-4ad9-94a0-02bef0940e79",
   "metadata": {},
   "outputs": [
    {
     "name": "stdout",
     "output_type": "stream",
     "text": [
      "before function\n",
      "hellosuraj\n",
      "after function\n"
     ]
    }
   ],
   "source": [
    "say_hello('suraj')"
   ]
  },
  {
   "cell_type": "code",
   "execution_count": 11,
   "id": "b0d9c542-f31a-4bf6-8e8a-7d3d2ecc39f5",
   "metadata": {},
   "outputs": [],
   "source": [
    "def decorator_function(abc):\n",
    "  def jaipur(message):\n",
    "    print('how do you do?')\n",
    "    result=abc(message)\n",
    "    print(result)\n",
    "    print('whats up!')\n",
    "  return jaipur\n"
   ]
  },
  {
   "cell_type": "code",
   "execution_count": 12,
   "id": "e39d57c6-4a93-4624-9471-07cef79e1abc",
   "metadata": {},
   "outputs": [],
   "source": [
    "@decorator_function\n",
    "def say_namste(name):\n",
    "  return f'namste{name}'"
   ]
  },
  {
   "cell_type": "code",
   "execution_count": 13,
   "id": "86949dc6-3a12-4596-8333-45cbd955806a",
   "metadata": {},
   "outputs": [
    {
     "name": "stdout",
     "output_type": "stream",
     "text": [
      "how do you do?\n",
      "namste INDIA\n",
      "whats up!\n"
     ]
    }
   ],
   "source": [
    "say_namste(' INDIA')"
   ]
  },
  {
   "cell_type": "code",
   "execution_count": null,
   "id": "8ad0c7e9-b147-4745-afb1-5fcebd8b0848",
   "metadata": {},
   "outputs": [],
   "source": []
  }
 ],
 "metadata": {
  "kernelspec": {
   "display_name": "Python 3 (ipykernel)",
   "language": "python",
   "name": "python3"
  },
  "language_info": {
   "codemirror_mode": {
    "name": "ipython",
    "version": 3
   },
   "file_extension": ".py",
   "mimetype": "text/x-python",
   "name": "python",
   "nbconvert_exporter": "python",
   "pygments_lexer": "ipython3",
   "version": "3.10.11"
  }
 },
 "nbformat": 4,
 "nbformat_minor": 5
}
